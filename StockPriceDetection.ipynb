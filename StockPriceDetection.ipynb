{
 "cells": [
  {
   "cell_type": "code",
   "execution_count": 3,
   "metadata": {},
   "outputs": [
    {
     "name": "stdout",
     "output_type": "stream",
     "text": [
      "         Date      Open      High       Low     Close  Adj Close    Volume\n",
      "0  1999-03-11  1.167969  1.562500  1.167969  1.464844   1.150338  86256000\n",
      "1  1999-03-12  1.468750  1.523438  1.343750  1.457031   1.144202  19948800\n",
      "2  1999-03-15  1.460938  1.460938  1.316406  1.324219   1.039905   6336000\n",
      "3  1999-03-16  1.335938  1.382813  1.312500  1.312500   1.030702   4992000\n",
      "4  1999-03-17  1.312500  1.398438  1.304688  1.320313   1.036838   7724800\n"
     ]
    }
   ],
   "source": [
    "import pandas as pd\n",
    "reliance= pd.read_csv(\"INFY.csv\")\n",
    "print(reliance.head())"
   ]
  },
  {
   "cell_type": "code",
   "execution_count": null,
   "metadata": {},
   "outputs": [],
   "source": [
    "print(\"trainging days =\",reliance.shape)"
   ]
  },
  {
   "cell_type": "code",
   "execution_count": null,
   "metadata": {},
   "outputs": [],
   "source": [
    "import matplotlib.pyplot as plt\n",
    "import seaborn as sns\n",
    "plt.figure(figsize=(10, 4))\n",
    "plt.title(\"reliance's Stock Price\")\n",
    "plt.xlabel(\"Days\")\n",
    "plt.ylabel(\"Close Rupees\")\n",
    "plt.plot(reliance[\"Close\"])\n",
    "plt.show()"
   ]
  },
  {
   "cell_type": "code",
   "execution_count": null,
   "metadata": {},
   "outputs": [],
   "source": [
    "reliance = reliance[[\"Close\"]]\n",
    "print(reliance.head())"
   ]
  },
  {
   "cell_type": "code",
   "execution_count": null,
   "metadata": {},
   "outputs": [],
   "source": [
    "futureDays = 25"
   ]
  },
  {
   "cell_type": "code",
   "execution_count": null,
   "metadata": {},
   "outputs": [],
   "source": [
    "reliance[\"Prediction\"] = reliance[[\"Close\"]].shift(-futureDays)\n",
    "print(reliance.head())\n",
    "print(reliance.tail())"
   ]
  },
  {
   "cell_type": "code",
   "execution_count": null,
   "metadata": {},
   "outputs": [],
   "source": [
    "import numpy as np\n",
    "x = np.array(reliance.drop([\"Prediction\"], 1))[:-futureDays]\n",
    "print(x)\n",
    "print(len(x))"
   ]
  },
  {
   "cell_type": "code",
   "execution_count": null,
   "metadata": {},
   "outputs": [],
   "source": [
    "y = np.array(reliance[\"Prediction\"])[:-futureDays]\n",
    "print(y)\n",
    "print(len(y))"
   ]
  },
  {
   "cell_type": "code",
   "execution_count": null,
   "metadata": {},
   "outputs": [],
   "source": [
    "from sklearn.model_selection import train_test_split\n",
    "xtrain, xtest, ytrain, ytest = train_test_split(x, y, test_size=0.25)"
   ]
  },
  {
   "cell_type": "code",
   "execution_count": null,
   "metadata": {},
   "outputs": [],
   "source": [
    "# Creating the decision tree regressor model\n",
    "from sklearn.tree import DecisionTreeRegressor\n",
    "tree = DecisionTreeRegressor().fit(xtrain, ytrain)"
   ]
  },
  {
   "cell_type": "code",
   "execution_count": null,
   "metadata": {},
   "outputs": [],
   "source": [
    "xfuture = reliance.drop([\"Prediction\"], 1)[:-futureDays]\n",
    "xfuture = xfuture.tail(futureDays)\n",
    "xfuture = np.array(xfuture)\n",
    "print(xfuture)"
   ]
  },
  {
   "cell_type": "code",
   "execution_count": null,
   "metadata": {},
   "outputs": [],
   "source": [
    "treePrediction = tree.predict(xfuture)\n",
    "print(\"Decision Tree prediction =\",treePrediction)"
   ]
  },
  {
   "cell_type": "code",
   "execution_count": null,
   "metadata": {},
   "outputs": [],
   "source": [
    "score = tree.score(xfuture, treePrediction)\n",
    "print(score)"
   ]
  },
  {
   "cell_type": "code",
   "execution_count": null,
   "metadata": {},
   "outputs": [],
   "source": [
    "predictions = treePrediction\n",
    "valid = reliance[x.shape[0]:]\n",
    "valid[\"Predictions\"] = predictions\n",
    "plt.figure(figsize=(20, 12))\n",
    "plt.title(\"reliance's Stock Price Prediction Model(Decision Tree Regressor Model)\")\n",
    "plt.xlabel(\"Days\")\n",
    "plt.ylabel(\"Close Rupees\")\n",
    "plt.plot(reliance[\"Close\"])\n",
    "plt.plot(valid[[\"Close\", \"Predictions\"]])\n",
    "plt.legend([\"Original\", \"Valid\", \"Predictions\"])\n",
    "plt.show()"
   ]
  }
 ],
 "metadata": {
  "kernelspec": {
   "display_name": "Python 3",
   "language": "python",
   "name": "python3"
  },
  "language_info": {
   "codemirror_mode": {
    "name": "ipython",
    "version": 3
   },
   "file_extension": ".py",
   "mimetype": "text/x-python",
   "name": "python",
   "nbconvert_exporter": "python",
   "pygments_lexer": "ipython3",
   "version": "3.8.5"
  }
 },
 "nbformat": 4,
 "nbformat_minor": 4
}
